{
 "cells": [
  {
   "cell_type": "markdown",
   "id": "1a1b4a74",
   "metadata": {},
   "source": [
    "https://www.theforage.com/virtual-experience/5N2ygyhzMWjKQmgCK/cognizant/cognizant-artificial-intelligence-virtual-experience-program/exploratory-data-analysis?ref=Z7D6K7rwBp6ehLX7t"
   ]
  },
  {
   "cell_type": "markdown",
   "id": "43f9cef2",
   "metadata": {},
   "source": [
    "Gala Groceries is a technology-led grocery store chain based in the USA. They rely heavily on new technologies, such as IoT to give them a competitive edge over other grocery stores. \n",
    "\n",
    "They pride themselves on providing the best quality, fresh produce from locally sourced suppliers. However, this comes with many challenges to consistently deliver on this objective year-round.\n",
    "\n",
    "Gala Groceries approached Cognizant to help them with a supply chain issue. Groceries are highly perishable items. If you overstock, you are wasting money on excessive storage and waste, but if you understock, then you risk losing customers. They want to know how to better stock the items that they sell.\n",
    "\n",
    "This is a high-level business problem and will require you to dive into the data in order to formulate some questions and recommendations to the client about what else we need in order to answer that question.\n",
    "\n",
    "Once you’re done with your analysis, we need you to summarize your findings and provide some suggestions as to what else we need in order to fulfill their business problem. Please draft an email containing this information to the Data Science team leader to review before we send it to the client."
   ]
  },
  {
   "cell_type": "markdown",
   "id": "7bcb7610",
   "metadata": {},
   "source": [
    "# Here is your task\n",
    "\n",
    "Step 1: Prepare\n",
    "\n",
    "Note: This task assumes that you are able to access Google Colab. This will require you to have or create a free Google account. \n",
    "\n",
    "First, you must download the CSV file provided within the additional resources (sample_sales_data.csv). This task will make use of coding notebooks, specifically using Python, which provide an interactive way of running and sharing code. There are 2 notebooks provided (eda.ipynb & eda_walkthrough.ipynb), “eda.ipynb” provides some code snippets to get started but will then assume that the user is able to use their knowledge to perform analysis on the data in Python. “eda_walkthrough.ipynb” provides the same code snippets, but also provides a walkthrough guide on how to complete this task. We recommend that if you’re comfortable with Python and data analysis, use “eda.ipynb”, otherwise use “eda_walkthrough.ipynb”. Furthermore, you can run this notebook however you wish, but we recommend that you use “Google Colaboratory” (Google Colab). A video link is provided in the additional resources covering a getting started guide with Google Colab, as well as how to import a dataset into Google Colab. This should take 10-15 minutes.\n",
    "\n",
    "Step 2: Exploration\n",
    "\n",
    "Now that you’re ready to dive into the data, you should use the notebooks provided to conduct your exploratory data analysis. Try to use a rigorous and scientific approach when analyzing data. Always ask yourself this question: what do these results mean? You should aim to have a solid understanding of the statistical properties of the dataset when you’re complete (this may include the distributions of columns, descriptive statistics such as mean, median, max and min, etc.) By the end of the exploration, you should feel comfortable with the dataset and what it means. This should take you 25-30 minutes.\n",
    "\n",
    "Step 3: Communication\n",
    "\n",
    "Finally, you must summarize your findings in a concise and business-friendly manner within an email to the Data Science team leader. This email should also contain recommendations for what else we require in order to complete this task for the client. Please draft your email in a word document and submit this file for review. You can use the template provided in the additional resources section. This should take 5-10 minutes.\n",
    "\n",
    "Estimated time for task completion: 40-55 minutes, depending on your learning style.\n",
    "Here are some resources to help you\n",
    "\n",
    "Note: The [eda_walkthrough] and [eda.ipynb] resources below are a specific type of file that must be opened by a Python interpreter. So this task will give you great hands-on experience with Python interpreters! A Python interpreter is a program installed on your computer whose job it is to look at and run your Python code. For more information, see this resource by Stanford computer science. To open these files, you should use Google Colab."
   ]
  },
  {
   "cell_type": "code",
   "execution_count": null,
   "id": "d374ec2f",
   "metadata": {},
   "outputs": [],
   "source": []
  }
 ],
 "metadata": {
  "kernelspec": {
   "display_name": "Python 3 (ipykernel)",
   "language": "python",
   "name": "python3"
  },
  "language_info": {
   "codemirror_mode": {
    "name": "ipython",
    "version": 3
   },
   "file_extension": ".py",
   "mimetype": "text/x-python",
   "name": "python",
   "nbconvert_exporter": "python",
   "pygments_lexer": "ipython3",
   "version": "3.9.12"
  }
 },
 "nbformat": 4,
 "nbformat_minor": 5
}
