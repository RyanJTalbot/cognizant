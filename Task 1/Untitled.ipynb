{
 "cells": [
  {
   "cell_type": "code",
   "execution_count": 1,
   "id": "2a1e28a1",
   "metadata": {},
   "outputs": [
    {
     "ename": "ModuleNotFoundError",
     "evalue": "No module named 'd3blocks'",
     "output_type": "error",
     "traceback": [
      "\u001b[0;31m---------------------------------------------------------------------------\u001b[0m",
      "\u001b[0;31mModuleNotFoundError\u001b[0m                       Traceback (most recent call last)",
      "\u001b[0;32m/var/folders/j_/555m2zps099832fjh_m8jjnc0000gn/T/ipykernel_50939/112430502.py\u001b[0m in \u001b[0;36m<cell line: 1>\u001b[0;34m()\u001b[0m\n\u001b[0;32m----> 1\u001b[0;31m \u001b[0;32mfrom\u001b[0m \u001b[0md3blocks\u001b[0m \u001b[0;32mimport\u001b[0m \u001b[0mD3Blocks\u001b[0m\u001b[0;34m\u001b[0m\u001b[0;34m\u001b[0m\u001b[0m\n\u001b[0m",
      "\u001b[0;31mModuleNotFoundError\u001b[0m: No module named 'd3blocks'"
     ]
    }
   ],
   "source": [
    "from d3blocks import D3Blocks\n"
   ]
  },
  {
   "cell_type": "code",
   "execution_count": null,
   "id": "7449cbf3",
   "metadata": {},
   "outputs": [],
   "source": [
    "from d3blocks import D3Blocks\n",
    "\n",
    "# Initialize\n",
    "d3 = D3Blocks()\n",
    "\n",
    "# Import example\n",
    "df = d3.import_example('energy')\n",
    "\n",
    "# Show the input data\n",
    "print(df)\n",
    "#                      source            target   weight\n",
    "# 0      Agricultural 'waste'    Bio-conversion  124.729\n",
    "# 1            Bio-conversion            Liquid    0.597\n",
    "# 2            Bio-conversion            Losses   26.862\n",
    "# 3            Bio-conversion             Solid  280.322\n",
    "# 4            Bio-conversion               Gas   81.144\n",
    "# ..                      ...               ...      ...\n",
    "# 63       Thermal generation  District heating   79.329\n",
    "# 64                    Tidal  Electricity grid    9.452\n",
    "# 65  UK land based bioenergy    Bio-conversion  182.010\n",
    "# 66                     Wave  Electricity grid   19.013\n",
    "# 67                     Wind  Electricity grid  289.366\n",
    "\n",
    "# [68 rows x 3 columns]\n",
    "\n",
    "\n",
    "# Initialize Network chart but do not yet show the chart.\n",
    "d3.d3graph(df, showfig=False)\n",
    "\n",
    "# Color node on clustering\n",
    "d3.D3graph.set_node_properties(color='cluster')\n",
    "\n",
    "# Make adjustments to the node: Thermal_generation\n",
    "d3.D3graph.node_properties['Thermal_generation']['size']=20\n",
    "d3.D3graph.node_properties['Thermal_generation']['edge_color']='#000fff' # Blue node edge\n",
    "d3.D3graph.node_properties['Thermal_generation']['edge_size']=3 # Node-edge Size\n",
    "\n",
    "# Make adjustments to the edge: 'Solar', 'Solar_Thermal'\n",
    "d3.D3graph.edge_properties['Solar', 'Solar_Thermal']['color']='#000fff'\n",
    "d3.D3graph.edge_properties['Solar', 'Solar_Thermal']['weight_scaled']=10\n",
    "\n",
    "# Show the network graph\n",
    "d3.D3graph.show()\n"
   ]
  },
  {
   "cell_type": "code",
   "execution_count": null,
   "id": "5bf1c2c8",
   "metadata": {},
   "outputs": [],
   "source": []
  }
 ],
 "metadata": {
  "kernelspec": {
   "display_name": "Python 3 (ipykernel)",
   "language": "python",
   "name": "python3"
  },
  "language_info": {
   "codemirror_mode": {
    "name": "ipython",
    "version": 3
   },
   "file_extension": ".py",
   "mimetype": "text/x-python",
   "name": "python",
   "nbconvert_exporter": "python",
   "pygments_lexer": "ipython3",
   "version": "3.9.12"
  }
 },
 "nbformat": 4,
 "nbformat_minor": 5
}
