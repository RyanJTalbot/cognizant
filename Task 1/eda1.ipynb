{
 "cells": [
  {
   "cell_type": "code",
   "execution_count": 37,
   "id": "a2a9efd6",
   "metadata": {},
   "outputs": [],
   "source": [
    "import pandas as pd\n",
    "import numpy as np\n",
    "import matplotlib.pyplot as plt\n",
    "import seaborn as sns\n"
   ]
  },
  {
   "cell_type": "code",
   "execution_count": 38,
   "id": "e458d0c3",
   "metadata": {},
   "outputs": [],
   "source": [
    "df = pd.read_csv('sample_sales_data.csv')"
   ]
  },
  {
   "cell_type": "code",
   "execution_count": 39,
   "id": "e872dbcc",
   "metadata": {},
   "outputs": [
    {
     "name": "stdout",
     "output_type": "stream",
     "text": [
      "<class 'pandas.core.frame.DataFrame'>\n",
      "RangeIndex: 7829 entries, 0 to 7828\n",
      "Data columns (total 10 columns):\n",
      " #   Column          Non-Null Count  Dtype  \n",
      "---  ------          --------------  -----  \n",
      " 0   Unnamed: 0      7829 non-null   int64  \n",
      " 1   transaction_id  7829 non-null   object \n",
      " 2   timestamp       7829 non-null   object \n",
      " 3   product_id      7829 non-null   object \n",
      " 4   category        7829 non-null   object \n",
      " 5   customer_type   7829 non-null   object \n",
      " 6   unit_price      7829 non-null   float64\n",
      " 7   quantity        7829 non-null   int64  \n",
      " 8   total           7829 non-null   float64\n",
      " 9   payment_type    7829 non-null   object \n",
      "dtypes: float64(2), int64(2), object(6)\n",
      "memory usage: 611.8+ KB\n"
     ]
    }
   ],
   "source": [
    "df.info()"
   ]
  },
  {
   "cell_type": "code",
   "execution_count": 40,
   "id": "373fe498",
   "metadata": {},
   "outputs": [],
   "source": [
    "df1 = df.copy()"
   ]
  },
  {
   "cell_type": "code",
   "execution_count": 34,
   "id": "36103eb9",
   "metadata": {},
   "outputs": [
    {
     "data": {
      "text/plain": [
       "Unnamed: 0        0\n",
       "transaction_id    0\n",
       "timestamp         0\n",
       "product_id        0\n",
       "category          0\n",
       "customer_type     0\n",
       "unit_price        0\n",
       "quantity          0\n",
       "total             0\n",
       "payment_type      0\n",
       "dtype: int64"
      ]
     },
     "execution_count": 34,
     "metadata": {},
     "output_type": "execute_result"
    }
   ],
   "source": [
    "df.isnull().sum()"
   ]
  },
  {
   "cell_type": "code",
   "execution_count": 4,
   "id": "baf49b32",
   "metadata": {},
   "outputs": [
    {
     "data": {
      "text/plain": [
       "Unnamed: 0        7829\n",
       "transaction_id    7829\n",
       "timestamp         7738\n",
       "product_id         300\n",
       "category            22\n",
       "customer_type        5\n",
       "unit_price          64\n",
       "quantity             4\n",
       "total              256\n",
       "payment_type         4\n",
       "dtype: int64"
      ]
     },
     "execution_count": 4,
     "metadata": {},
     "output_type": "execute_result"
    }
   ],
   "source": [
    "df.nunique()"
   ]
  },
  {
   "cell_type": "code",
   "execution_count": 5,
   "id": "87cd182d",
   "metadata": {},
   "outputs": [],
   "source": [
    "# category            22\n",
    "# customer_type        5\n",
    "# payment_type         4"
   ]
  },
  {
   "cell_type": "code",
   "execution_count": 6,
   "id": "464d9375",
   "metadata": {},
   "outputs": [],
   "source": [
    "df[\"category\"] = df[\"category\"].astype(\"category\").cat.codes"
   ]
  },
  {
   "cell_type": "code",
   "execution_count": 7,
   "id": "6811dd52",
   "metadata": {},
   "outputs": [],
   "source": [
    "df[\"customer_type\"] = df[\"customer_type\"].astype(\"category\").cat.codes"
   ]
  },
  {
   "cell_type": "code",
   "execution_count": 8,
   "id": "6fe697b3",
   "metadata": {},
   "outputs": [],
   "source": [
    "df[\"payment_type\"] = df[\"payment_type\"].astype(\"category\").cat.codes"
   ]
  },
  {
   "cell_type": "code",
   "execution_count": 9,
   "id": "c5cc5298",
   "metadata": {
    "scrolled": true
   },
   "outputs": [
    {
     "data": {
      "text/html": [
       "<div>\n",
       "<style scoped>\n",
       "    .dataframe tbody tr th:only-of-type {\n",
       "        vertical-align: middle;\n",
       "    }\n",
       "\n",
       "    .dataframe tbody tr th {\n",
       "        vertical-align: top;\n",
       "    }\n",
       "\n",
       "    .dataframe thead th {\n",
       "        text-align: right;\n",
       "    }\n",
       "</style>\n",
       "<table border=\"1\" class=\"dataframe\">\n",
       "  <thead>\n",
       "    <tr style=\"text-align: right;\">\n",
       "      <th></th>\n",
       "      <th>Unnamed: 0</th>\n",
       "      <th>transaction_id</th>\n",
       "      <th>timestamp</th>\n",
       "      <th>product_id</th>\n",
       "      <th>category</th>\n",
       "      <th>customer_type</th>\n",
       "      <th>unit_price</th>\n",
       "      <th>quantity</th>\n",
       "      <th>total</th>\n",
       "      <th>payment_type</th>\n",
       "    </tr>\n",
       "  </thead>\n",
       "  <tbody>\n",
       "    <tr>\n",
       "      <th>0</th>\n",
       "      <td>0</td>\n",
       "      <td>a1c82654-c52c-45b3-8ce8-4c2a1efe63ed</td>\n",
       "      <td>2022-03-02 09:51:38</td>\n",
       "      <td>3bc6c1ea-0198-46de-9ffd-514ae3338713</td>\n",
       "      <td>10</td>\n",
       "      <td>1</td>\n",
       "      <td>3.99</td>\n",
       "      <td>2</td>\n",
       "      <td>7.98</td>\n",
       "      <td>3</td>\n",
       "    </tr>\n",
       "    <tr>\n",
       "      <th>1</th>\n",
       "      <td>1</td>\n",
       "      <td>931ad550-09e8-4da6-beaa-8c9d17be9c60</td>\n",
       "      <td>2022-03-06 10:33:59</td>\n",
       "      <td>ad81b46c-bf38-41cf-9b54-5fe7f5eba93e</td>\n",
       "      <td>10</td>\n",
       "      <td>4</td>\n",
       "      <td>3.99</td>\n",
       "      <td>1</td>\n",
       "      <td>3.99</td>\n",
       "      <td>3</td>\n",
       "    </tr>\n",
       "    <tr>\n",
       "      <th>2</th>\n",
       "      <td>2</td>\n",
       "      <td>ae133534-6f61-4cd6-b6b8-d1c1d8d90aea</td>\n",
       "      <td>2022-03-04 17:20:21</td>\n",
       "      <td>7c55cbd4-f306-4c04-a030-628cbe7867c1</td>\n",
       "      <td>10</td>\n",
       "      <td>3</td>\n",
       "      <td>0.19</td>\n",
       "      <td>2</td>\n",
       "      <td>0.38</td>\n",
       "      <td>3</td>\n",
       "    </tr>\n",
       "    <tr>\n",
       "      <th>3</th>\n",
       "      <td>3</td>\n",
       "      <td>157cebd9-aaf0-475d-8a11-7c8e0f5b76e4</td>\n",
       "      <td>2022-03-02 17:23:58</td>\n",
       "      <td>80da8348-1707-403f-8be7-9e6deeccc883</td>\n",
       "      <td>10</td>\n",
       "      <td>1</td>\n",
       "      <td>0.19</td>\n",
       "      <td>4</td>\n",
       "      <td>0.76</td>\n",
       "      <td>3</td>\n",
       "    </tr>\n",
       "    <tr>\n",
       "      <th>4</th>\n",
       "      <td>4</td>\n",
       "      <td>a81a6cd3-5e0c-44a2-826c-aea43e46c514</td>\n",
       "      <td>2022-03-05 14:32:43</td>\n",
       "      <td>7f5e86e6-f06f-45f6-bf44-27b095c9ad1d</td>\n",
       "      <td>10</td>\n",
       "      <td>0</td>\n",
       "      <td>4.49</td>\n",
       "      <td>2</td>\n",
       "      <td>8.98</td>\n",
       "      <td>2</td>\n",
       "    </tr>\n",
       "    <tr>\n",
       "      <th>...</th>\n",
       "      <td>...</td>\n",
       "      <td>...</td>\n",
       "      <td>...</td>\n",
       "      <td>...</td>\n",
       "      <td>...</td>\n",
       "      <td>...</td>\n",
       "      <td>...</td>\n",
       "      <td>...</td>\n",
       "      <td>...</td>\n",
       "      <td>...</td>\n",
       "    </tr>\n",
       "    <tr>\n",
       "      <th>7824</th>\n",
       "      <td>7824</td>\n",
       "      <td>6c19b9fc-f86d-4526-9dfe-d8027a4d13ee</td>\n",
       "      <td>2022-03-03 18:22:09</td>\n",
       "      <td>bc6187a9-d508-482b-9ca6-590d1cc7524f</td>\n",
       "      <td>6</td>\n",
       "      <td>0</td>\n",
       "      <td>14.19</td>\n",
       "      <td>2</td>\n",
       "      <td>28.38</td>\n",
       "      <td>3</td>\n",
       "    </tr>\n",
       "    <tr>\n",
       "      <th>7825</th>\n",
       "      <td>7825</td>\n",
       "      <td>1c69824b-e399-4b79-a5e7-04a3a7db0681</td>\n",
       "      <td>2022-03-04 19:14:46</td>\n",
       "      <td>707e4237-191c-4cc9-85af-383a6c1cb2ab</td>\n",
       "      <td>6</td>\n",
       "      <td>4</td>\n",
       "      <td>16.99</td>\n",
       "      <td>1</td>\n",
       "      <td>16.99</td>\n",
       "      <td>1</td>\n",
       "    </tr>\n",
       "    <tr>\n",
       "      <th>7826</th>\n",
       "      <td>7826</td>\n",
       "      <td>79aee7d6-1405-4345-9a15-92541e9e1e74</td>\n",
       "      <td>2022-03-03 14:00:09</td>\n",
       "      <td>a9325c1a-2715-41df-b7f4-3078fa5ecd97</td>\n",
       "      <td>6</td>\n",
       "      <td>0</td>\n",
       "      <td>14.19</td>\n",
       "      <td>2</td>\n",
       "      <td>28.38</td>\n",
       "      <td>1</td>\n",
       "    </tr>\n",
       "    <tr>\n",
       "      <th>7827</th>\n",
       "      <td>7827</td>\n",
       "      <td>e5cc4f88-e5b7-4ad5-bc1b-12a828a14f55</td>\n",
       "      <td>2022-03-04 15:11:38</td>\n",
       "      <td>707e4237-191c-4cc9-85af-383a6c1cb2ab</td>\n",
       "      <td>6</td>\n",
       "      <td>0</td>\n",
       "      <td>16.99</td>\n",
       "      <td>4</td>\n",
       "      <td>67.96</td>\n",
       "      <td>0</td>\n",
       "    </tr>\n",
       "    <tr>\n",
       "      <th>7828</th>\n",
       "      <td>7828</td>\n",
       "      <td>afd70b4f-ee21-402d-8d8f-0d9e13c2bea6</td>\n",
       "      <td>2022-03-06 13:50:36</td>\n",
       "      <td>d6ccd088-11be-4c25-aa1f-ea87c01a04db</td>\n",
       "      <td>6</td>\n",
       "      <td>2</td>\n",
       "      <td>14.99</td>\n",
       "      <td>4</td>\n",
       "      <td>59.96</td>\n",
       "      <td>2</td>\n",
       "    </tr>\n",
       "  </tbody>\n",
       "</table>\n",
       "<p>7829 rows × 10 columns</p>\n",
       "</div>"
      ],
      "text/plain": [
       "      Unnamed: 0                        transaction_id            timestamp  \\\n",
       "0              0  a1c82654-c52c-45b3-8ce8-4c2a1efe63ed  2022-03-02 09:51:38   \n",
       "1              1  931ad550-09e8-4da6-beaa-8c9d17be9c60  2022-03-06 10:33:59   \n",
       "2              2  ae133534-6f61-4cd6-b6b8-d1c1d8d90aea  2022-03-04 17:20:21   \n",
       "3              3  157cebd9-aaf0-475d-8a11-7c8e0f5b76e4  2022-03-02 17:23:58   \n",
       "4              4  a81a6cd3-5e0c-44a2-826c-aea43e46c514  2022-03-05 14:32:43   \n",
       "...          ...                                   ...                  ...   \n",
       "7824        7824  6c19b9fc-f86d-4526-9dfe-d8027a4d13ee  2022-03-03 18:22:09   \n",
       "7825        7825  1c69824b-e399-4b79-a5e7-04a3a7db0681  2022-03-04 19:14:46   \n",
       "7826        7826  79aee7d6-1405-4345-9a15-92541e9e1e74  2022-03-03 14:00:09   \n",
       "7827        7827  e5cc4f88-e5b7-4ad5-bc1b-12a828a14f55  2022-03-04 15:11:38   \n",
       "7828        7828  afd70b4f-ee21-402d-8d8f-0d9e13c2bea6  2022-03-06 13:50:36   \n",
       "\n",
       "                                product_id  category  customer_type  \\\n",
       "0     3bc6c1ea-0198-46de-9ffd-514ae3338713        10              1   \n",
       "1     ad81b46c-bf38-41cf-9b54-5fe7f5eba93e        10              4   \n",
       "2     7c55cbd4-f306-4c04-a030-628cbe7867c1        10              3   \n",
       "3     80da8348-1707-403f-8be7-9e6deeccc883        10              1   \n",
       "4     7f5e86e6-f06f-45f6-bf44-27b095c9ad1d        10              0   \n",
       "...                                    ...       ...            ...   \n",
       "7824  bc6187a9-d508-482b-9ca6-590d1cc7524f         6              0   \n",
       "7825  707e4237-191c-4cc9-85af-383a6c1cb2ab         6              4   \n",
       "7826  a9325c1a-2715-41df-b7f4-3078fa5ecd97         6              0   \n",
       "7827  707e4237-191c-4cc9-85af-383a6c1cb2ab         6              0   \n",
       "7828  d6ccd088-11be-4c25-aa1f-ea87c01a04db         6              2   \n",
       "\n",
       "      unit_price  quantity  total  payment_type  \n",
       "0           3.99         2   7.98             3  \n",
       "1           3.99         1   3.99             3  \n",
       "2           0.19         2   0.38             3  \n",
       "3           0.19         4   0.76             3  \n",
       "4           4.49         2   8.98             2  \n",
       "...          ...       ...    ...           ...  \n",
       "7824       14.19         2  28.38             3  \n",
       "7825       16.99         1  16.99             1  \n",
       "7826       14.19         2  28.38             1  \n",
       "7827       16.99         4  67.96             0  \n",
       "7828       14.99         4  59.96             2  \n",
       "\n",
       "[7829 rows x 10 columns]"
      ]
     },
     "execution_count": 9,
     "metadata": {},
     "output_type": "execute_result"
    }
   ],
   "source": [
    "df"
   ]
  },
  {
   "cell_type": "code",
   "execution_count": 10,
   "id": "6d462fdd",
   "metadata": {},
   "outputs": [
    {
     "name": "stdout",
     "output_type": "stream",
     "text": [
      "<class 'pandas.core.frame.DataFrame'>\n",
      "RangeIndex: 7829 entries, 0 to 7828\n",
      "Data columns (total 10 columns):\n",
      " #   Column          Non-Null Count  Dtype  \n",
      "---  ------          --------------  -----  \n",
      " 0   Unnamed: 0      7829 non-null   int64  \n",
      " 1   transaction_id  7829 non-null   object \n",
      " 2   timestamp       7829 non-null   object \n",
      " 3   product_id      7829 non-null   object \n",
      " 4   category        7829 non-null   int8   \n",
      " 5   customer_type   7829 non-null   int8   \n",
      " 6   unit_price      7829 non-null   float64\n",
      " 7   quantity        7829 non-null   int64  \n",
      " 8   total           7829 non-null   float64\n",
      " 9   payment_type    7829 non-null   int8   \n",
      "dtypes: float64(2), int64(2), int8(3), object(3)\n",
      "memory usage: 451.2+ KB\n"
     ]
    }
   ],
   "source": [
    "df.info()"
   ]
  },
  {
   "cell_type": "code",
   "execution_count": 11,
   "id": "de2a8392",
   "metadata": {},
   "outputs": [
    {
     "data": {
      "text/html": [
       "<div>\n",
       "<style scoped>\n",
       "    .dataframe tbody tr th:only-of-type {\n",
       "        vertical-align: middle;\n",
       "    }\n",
       "\n",
       "    .dataframe tbody tr th {\n",
       "        vertical-align: top;\n",
       "    }\n",
       "\n",
       "    .dataframe thead th {\n",
       "        text-align: right;\n",
       "    }\n",
       "</style>\n",
       "<table border=\"1\" class=\"dataframe\">\n",
       "  <thead>\n",
       "    <tr style=\"text-align: right;\">\n",
       "      <th></th>\n",
       "      <th>Unnamed: 0</th>\n",
       "      <th>category</th>\n",
       "      <th>customer_type</th>\n",
       "      <th>unit_price</th>\n",
       "      <th>quantity</th>\n",
       "      <th>total</th>\n",
       "      <th>payment_type</th>\n",
       "    </tr>\n",
       "  </thead>\n",
       "  <tbody>\n",
       "    <tr>\n",
       "      <th>Unnamed: 0</th>\n",
       "      <td>1.000000</td>\n",
       "      <td>-0.295947</td>\n",
       "      <td>-0.015299</td>\n",
       "      <td>0.623392</td>\n",
       "      <td>0.003927</td>\n",
       "      <td>0.483878</td>\n",
       "      <td>-0.026362</td>\n",
       "    </tr>\n",
       "    <tr>\n",
       "      <th>category</th>\n",
       "      <td>-0.295947</td>\n",
       "      <td>1.000000</td>\n",
       "      <td>-0.005571</td>\n",
       "      <td>-0.224733</td>\n",
       "      <td>0.004895</td>\n",
       "      <td>-0.171671</td>\n",
       "      <td>-0.007016</td>\n",
       "    </tr>\n",
       "    <tr>\n",
       "      <th>customer_type</th>\n",
       "      <td>-0.015299</td>\n",
       "      <td>-0.005571</td>\n",
       "      <td>1.000000</td>\n",
       "      <td>-0.008040</td>\n",
       "      <td>0.012028</td>\n",
       "      <td>0.006207</td>\n",
       "      <td>-0.023160</td>\n",
       "    </tr>\n",
       "    <tr>\n",
       "      <th>unit_price</th>\n",
       "      <td>0.623392</td>\n",
       "      <td>-0.224733</td>\n",
       "      <td>-0.008040</td>\n",
       "      <td>1.000000</td>\n",
       "      <td>0.024588</td>\n",
       "      <td>0.792018</td>\n",
       "      <td>-0.017175</td>\n",
       "    </tr>\n",
       "    <tr>\n",
       "      <th>quantity</th>\n",
       "      <td>0.003927</td>\n",
       "      <td>0.004895</td>\n",
       "      <td>0.012028</td>\n",
       "      <td>0.024588</td>\n",
       "      <td>1.000000</td>\n",
       "      <td>0.521926</td>\n",
       "      <td>-0.027804</td>\n",
       "    </tr>\n",
       "    <tr>\n",
       "      <th>total</th>\n",
       "      <td>0.483878</td>\n",
       "      <td>-0.171671</td>\n",
       "      <td>0.006207</td>\n",
       "      <td>0.792018</td>\n",
       "      <td>0.521926</td>\n",
       "      <td>1.000000</td>\n",
       "      <td>-0.032609</td>\n",
       "    </tr>\n",
       "    <tr>\n",
       "      <th>payment_type</th>\n",
       "      <td>-0.026362</td>\n",
       "      <td>-0.007016</td>\n",
       "      <td>-0.023160</td>\n",
       "      <td>-0.017175</td>\n",
       "      <td>-0.027804</td>\n",
       "      <td>-0.032609</td>\n",
       "      <td>1.000000</td>\n",
       "    </tr>\n",
       "  </tbody>\n",
       "</table>\n",
       "</div>"
      ],
      "text/plain": [
       "               Unnamed: 0  category  customer_type  unit_price  quantity  \\\n",
       "Unnamed: 0       1.000000 -0.295947      -0.015299    0.623392  0.003927   \n",
       "category        -0.295947  1.000000      -0.005571   -0.224733  0.004895   \n",
       "customer_type   -0.015299 -0.005571       1.000000   -0.008040  0.012028   \n",
       "unit_price       0.623392 -0.224733      -0.008040    1.000000  0.024588   \n",
       "quantity         0.003927  0.004895       0.012028    0.024588  1.000000   \n",
       "total            0.483878 -0.171671       0.006207    0.792018  0.521926   \n",
       "payment_type    -0.026362 -0.007016      -0.023160   -0.017175 -0.027804   \n",
       "\n",
       "                  total  payment_type  \n",
       "Unnamed: 0     0.483878     -0.026362  \n",
       "category      -0.171671     -0.007016  \n",
       "customer_type  0.006207     -0.023160  \n",
       "unit_price     0.792018     -0.017175  \n",
       "quantity       0.521926     -0.027804  \n",
       "total          1.000000     -0.032609  \n",
       "payment_type  -0.032609      1.000000  "
      ]
     },
     "execution_count": 11,
     "metadata": {},
     "output_type": "execute_result"
    }
   ],
   "source": [
    "df.corr()"
   ]
  },
  {
   "cell_type": "code",
   "execution_count": 12,
   "id": "6ec5b384",
   "metadata": {},
   "outputs": [
    {
     "data": {
      "text/html": [
       "<div>\n",
       "<style scoped>\n",
       "    .dataframe tbody tr th:only-of-type {\n",
       "        vertical-align: middle;\n",
       "    }\n",
       "\n",
       "    .dataframe tbody tr th {\n",
       "        vertical-align: top;\n",
       "    }\n",
       "\n",
       "    .dataframe thead th {\n",
       "        text-align: right;\n",
       "    }\n",
       "</style>\n",
       "<table border=\"1\" class=\"dataframe\">\n",
       "  <thead>\n",
       "    <tr style=\"text-align: right;\">\n",
       "      <th></th>\n",
       "      <th>Unnamed: 0</th>\n",
       "      <th>category</th>\n",
       "      <th>customer_type</th>\n",
       "      <th>unit_price</th>\n",
       "      <th>quantity</th>\n",
       "      <th>total</th>\n",
       "      <th>payment_type</th>\n",
       "    </tr>\n",
       "  </thead>\n",
       "  <tbody>\n",
       "    <tr>\n",
       "      <th>Unnamed: 0</th>\n",
       "      <td>5.108423e+06</td>\n",
       "      <td>-4216.964997</td>\n",
       "      <td>-48.791134</td>\n",
       "      <td>7591.699745</td>\n",
       "      <td>9.964870</td>\n",
       "      <td>19080.621506</td>\n",
       "      <td>-66.931528</td>\n",
       "    </tr>\n",
       "    <tr>\n",
       "      <th>category</th>\n",
       "      <td>-4.216965e+03</td>\n",
       "      <td>39.745383</td>\n",
       "      <td>-0.049562</td>\n",
       "      <td>-7.633865</td>\n",
       "      <td>0.034644</td>\n",
       "      <td>-18.882234</td>\n",
       "      <td>-0.049686</td>\n",
       "    </tr>\n",
       "    <tr>\n",
       "      <th>customer_type</th>\n",
       "      <td>-4.879113e+01</td>\n",
       "      <td>-0.049562</td>\n",
       "      <td>1.990970</td>\n",
       "      <td>-0.061129</td>\n",
       "      <td>0.019055</td>\n",
       "      <td>0.152803</td>\n",
       "      <td>-0.036710</td>\n",
       "    </tr>\n",
       "    <tr>\n",
       "      <th>unit_price</th>\n",
       "      <td>7.591700e+03</td>\n",
       "      <td>-7.633865</td>\n",
       "      <td>-0.061129</td>\n",
       "      <td>29.031497</td>\n",
       "      <td>0.148739</td>\n",
       "      <td>74.453049</td>\n",
       "      <td>-0.103957</td>\n",
       "    </tr>\n",
       "    <tr>\n",
       "      <th>quantity</th>\n",
       "      <td>9.964870e+00</td>\n",
       "      <td>0.034644</td>\n",
       "      <td>0.019055</td>\n",
       "      <td>0.148739</td>\n",
       "      <td>1.260505</td>\n",
       "      <td>10.223376</td>\n",
       "      <td>-0.035067</td>\n",
       "    </tr>\n",
       "    <tr>\n",
       "      <th>total</th>\n",
       "      <td>1.908062e+04</td>\n",
       "      <td>-18.882234</td>\n",
       "      <td>0.152803</td>\n",
       "      <td>74.453049</td>\n",
       "      <td>10.223376</td>\n",
       "      <td>304.386639</td>\n",
       "      <td>-0.639103</td>\n",
       "    </tr>\n",
       "    <tr>\n",
       "      <th>payment_type</th>\n",
       "      <td>-6.693153e+01</td>\n",
       "      <td>-0.049686</td>\n",
       "      <td>-0.036710</td>\n",
       "      <td>-0.103957</td>\n",
       "      <td>-0.035067</td>\n",
       "      <td>-0.639103</td>\n",
       "      <td>1.261911</td>\n",
       "    </tr>\n",
       "  </tbody>\n",
       "</table>\n",
       "</div>"
      ],
      "text/plain": [
       "                 Unnamed: 0     category  customer_type   unit_price  \\\n",
       "Unnamed: 0     5.108423e+06 -4216.964997     -48.791134  7591.699745   \n",
       "category      -4.216965e+03    39.745383      -0.049562    -7.633865   \n",
       "customer_type -4.879113e+01    -0.049562       1.990970    -0.061129   \n",
       "unit_price     7.591700e+03    -7.633865      -0.061129    29.031497   \n",
       "quantity       9.964870e+00     0.034644       0.019055     0.148739   \n",
       "total          1.908062e+04   -18.882234       0.152803    74.453049   \n",
       "payment_type  -6.693153e+01    -0.049686      -0.036710    -0.103957   \n",
       "\n",
       "                quantity         total  payment_type  \n",
       "Unnamed: 0      9.964870  19080.621506    -66.931528  \n",
       "category        0.034644    -18.882234     -0.049686  \n",
       "customer_type   0.019055      0.152803     -0.036710  \n",
       "unit_price      0.148739     74.453049     -0.103957  \n",
       "quantity        1.260505     10.223376     -0.035067  \n",
       "total          10.223376    304.386639     -0.639103  \n",
       "payment_type   -0.035067     -0.639103      1.261911  "
      ]
     },
     "execution_count": 12,
     "metadata": {},
     "output_type": "execute_result"
    }
   ],
   "source": [
    "df.cov()"
   ]
  },
  {
   "cell_type": "code",
   "execution_count": 13,
   "id": "2b9d0df2",
   "metadata": {},
   "outputs": [],
   "source": [
    "corr = df.corr()"
   ]
  },
  {
   "cell_type": "code",
   "execution_count": 14,
   "id": "8bfbf6bc",
   "metadata": {},
   "outputs": [
    {
     "data": {
      "image/png": "[encoded data removed]",
      "text/plain": [
       "<Figure size 432x288 with 2 Axes>"
      ]
     },
     "metadata": {
      "needs_background": "light"
     },
     "output_type": "display_data"
    }
   ],
   "source": [
    "ax = sns.heatmap(\n",
    "    corr, \n",
    "    vmin=-1, vmax=1, center=0,\n",
    "    cmap=sns.diverging_palette(20, 220, n=200),\n",
    "    square=True\n",
    ")\n",
    "ax.set_xticklabels(\n",
    "    ax.get_xticklabels(),\n",
    "    rotation=45,\n",
    "    horizontalalignment='right'\n",
    ");"
   ]
  },
  {
   "cell_type": "code",
   "execution_count": 15,
   "id": "adbe2511",
   "metadata": {},
   "outputs": [],
   "source": [
    "cov = df.cov()"
   ]
  },
  {
   "cell_type": "code",
   "execution_count": 16,
   "id": "b97a5682",
   "metadata": {},
   "outputs": [
    {
     "data": {
      "image/png": "[encoded data removed]",
      "text/plain": [
       "<Figure size 432x288 with 2 Axes>"
      ]
     },
     "metadata": {
      "needs_background": "light"
     },
     "output_type": "display_data"
    }
   ],
   "source": [
    "ax = sns.heatmap(\n",
    "    cov, \n",
    "    vmin=-1, vmax=1, center=0,\n",
    "    cmap=sns.diverging_palette(20, 220, n=200),\n",
    "    square=True\n",
    ")\n",
    "ax.set_xticklabels(\n",
    "    ax.get_xticklabels(),\n",
    "    rotation=45,\n",
    "    horizontalalignment='right'\n",
    ");"
   ]
  },
  {
   "cell_type": "code",
   "execution_count": 17,
   "id": "2909a302",
   "metadata": {},
   "outputs": [
    {
     "data": {
      "text/plain": [
       "Unnamed: 0        0\n",
       "transaction_id    0\n",
       "timestamp         0\n",
       "product_id        0\n",
       "category          0\n",
       "customer_type     0\n",
       "unit_price        0\n",
       "quantity          0\n",
       "total             0\n",
       "payment_type      0\n",
       "dtype: int64"
      ]
     },
     "execution_count": 17,
     "metadata": {},
     "output_type": "execute_result"
    }
   ],
   "source": [
    "df.isnull().sum()"
   ]
  },
  {
   "cell_type": "code",
   "execution_count": 35,
   "id": "f47989c4",
   "metadata": {},
   "outputs": [],
   "source": [
    "def plot_continuous_distribution(data: pd.DataFrame = None, column: str = None, height: int = 8):\n",
    "    _ = sns.displot(data, x=column, kde=True, height=height, aspect=height/5).set(title=f'Distribution of {column}');\n"
   ]
  },
  {
   "cell_type": "code",
   "execution_count": 44,
   "id": "5bd1a5a5",
   "metadata": {},
   "outputs": [],
   "source": [
    "def get_unique_values(data, column):\n",
    "    num_unique_values = len(data[column].unique())\n",
    "    value_counts = data[column].value_counts()\n",
    "    print(f\"Column: {column} has {num_unique_values} unique values\\n\")\n",
    "    print(value_counts)\n",
    "\n",
    "def plot_categorical_distribution(data: pd.DataFrame = None, column: str = None, height: int = 8, aspect: int = 2):\n",
    "    _ = sns.catplot(data=data, x=column, kind='count', height=height, aspect=aspect).set(title=f'Distribution of {column}');\n",
    "\n",
    "def correlation_plot(data: pd.DataFrame = None):\n",
    "    corr = df.corr()\n",
    "    corr.style.background_gradient(cmap='coolwarm')"
   ]
  },
  {
   "cell_type": "code",
   "execution_count": 41,
   "id": "df2f8dd6",
   "metadata": {},
   "outputs": [
    {
     "data": {
      "image/png": "[encoded data removed]",
      "text/plain": [
       "<Figure size 1018.73x576 with 1 Axes>"
      ]
     },
     "metadata": {
      "needs_background": "light"
     },
     "output_type": "display_data"
    }
   ],
   "source": [
    "plot_continuous_distribution(df1)"
   ]
  },
  {
   "cell_type": "code",
   "execution_count": 54,
   "id": "16d8ecaf",
   "metadata": {
    "scrolled": true
   },
   "outputs": [
    {
     "name": "stdout",
     "output_type": "stream",
     "text": [
      "Column: category has 22 unique values\n",
      "\n",
      "fruit                    998\n",
      "vegetables               846\n",
      "packaged foods           507\n",
      "baked goods              443\n",
      "canned foods             431\n",
      "refrigerated items       425\n",
      "kitchen                  382\n",
      "meat                     382\n",
      "dairy                    375\n",
      "beverages                301\n",
      "cheese                   293\n",
      "cleaning products        292\n",
      "baking                   264\n",
      "snacks                   263\n",
      "frozen                   263\n",
      "seafood                  253\n",
      "medicine                 243\n",
      "baby products            224\n",
      "condiments and sauces    181\n",
      "personal care            177\n",
      "pets                     161\n",
      "spices and herbs         125\n",
      "Name: category, dtype: int64\n"
     ]
    }
   ],
   "source": [
    "get_unique_values(df, 'category')"
   ]
  },
  {
   "cell_type": "code",
   "execution_count": null,
   "id": "f0f5097c",
   "metadata": {},
   "outputs": [],
   "source": []
  },
  {
   "cell_type": "code",
   "execution_count": null,
   "id": "ff2c2bfb",
   "metadata": {},
   "outputs": [],
   "source": []
  },
  {
   "cell_type": "markdown",
   "id": "6bd7be16",
   "metadata": {},
   "source": [
    "---\n",
    "\n",
    "## Section 5 - Summary\n",
    "\n",
    "We have completed an initial exploratory data analysis on the sample of data provided. We should now have a solid understanding of the data. \n",
    "\n",
    "The client wants to know\n",
    "\n",
    "```\n",
    "\"How to better stock the items that they sell\"\n",
    "```\n",
    "\n",
    "From this dataset, it is impossible to answer that question. In order to make the next step on this project with the client, it is clear that:\n",
    "\n",
    "- We need more rows of data. The current sample is only from 1 store and 1 week worth of data\n",
    "- We need to frame the specific problem statement that we want to solve. The current business problem is too broad, we should narrow down the focus in order to deliver a valuable end product\n",
    "- We need more features. Based on the problem statement that we move forward with, we need more columns (features) that may help us to understand the outcome that we're solving for\n"
   ]
  },
  {
   "cell_type": "code",
   "execution_count": null,
   "id": "c1262e55",
   "metadata": {},
   "outputs": [],
   "source": []
  }
 ],
 "metadata": {
  "kernelspec": {
   "display_name": "Python 3 (ipykernel)",
   "language": "python",
   "name": "python3"
  },
  "language_info": {
   "codemirror_mode": {
    "name": "ipython",
    "version": 3
   },
   "file_extension": ".py",
   "mimetype": "text/x-python",
   "name": "python",
   "nbconvert_exporter": "python",
   "pygments_lexer": "ipython3",
   "version": "3.9.12"
  }
 },
 "nbformat": 4,
 "nbformat_minor": 5
}
